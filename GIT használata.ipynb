{
 "metadata": {
  "name": "",
  "signature": "sha256:d5802f25b298bed80f49601e968cfe9d1866204e0c39231b450d3ccf751154f8"
 },
 "nbformat": 3,
 "nbformat_minor": 0,
 "worksheets": [
  {
   "cells": [
    {
     "cell_type": "markdown",
     "metadata": {},
     "source": [
      "#A GIT konfigur\u00e1l\u00e1sa"
     ]
    },
    {
     "cell_type": "heading",
     "level": 2,
     "metadata": {},
     "source": [
      "\u00cdgy csin\u00e1ld \u00e9s minden rendben lesz:"
     ]
    },
    {
     "cell_type": "heading",
     "level": 6,
     "metadata": {},
     "source": [
      "<font size=\"3\" color='red'>***Elsz\u00f6r adjuk meg felhaszn\u00e1l\u00f3 nev\u00fcnket.***"
     ]
    },
    {
     "cell_type": "code",
     "collapsed": false,
     "input": [
      "!git config --global user.name \"Vir\u00e1g Benj\u00e1min\""
     ],
     "language": "python",
     "metadata": {},
     "outputs": []
    },
    {
     "cell_type": "heading",
     "level": 6,
     "metadata": {},
     "source": [
      "<font size=\"3\" color='red'>***Majd adjuk meg e-mail c\u00edm\u00fcnket.***</font>"
     ]
    },
    {
     "cell_type": "code",
     "collapsed": false,
     "input": [
      "!git config --global user.email \"3beni3@gmail.com\""
     ],
     "language": "python",
     "metadata": {},
     "outputs": []
    },
    {
     "cell_type": "markdown",
     "metadata": {},
     "source": [
      "<font size=\"3\" color='red'>***Ahhoz hogy \u00faj t\u00e1rol\u00f3t hozzunk l\u00e9tre a k\u00f6vetkez\u0151 l\u00e9p\u00e9sek lesznek sz\u00fcks\u00e9gesek:***</font>\n",
      "    <ul>\n",
      "    <li>Hozzunk l\u00e9tre egy mapp\u00e1t amit szeretn\u00e9nk, hogy t\u00e1rol\u00f3k\u00e9nt m\u0171k\u00f6dj\u00f6n\n",
      "    <li>Nyissuk meg ezt a mapp\u00e1t\n",
      "    <li>Ut\u00e1na hozzunk l\u00e9tre egy \u00faj repository-t\n",
      "    <li>Ha ezekkel megvagyunk, \"\u00e9rints\u00fcnk\" meg egy f\u00e1jlt amivel ezt a f\u00e1jlt l\u00e9trehozzuk, majd\n",
      "       \u00edrjunk bele amit szeretn\u00e9nk\n",
      "    <li>Most adjuk hozz\u00e1 a f\u00e1jlunkat eghy indexbe, amiket szeretn\u00e9nk hogy fel ker\u00fcljenek a\n",
      "       GIT-re\n",
      "    <li>Ezt az indexet pedig k\u00e9sz\u00edts\u00fck fel, hogy feltoljuk a GIT-\u00fcnkre\n",
      "    <li>Adjuk hozz\u00e1 a felhaszn\u00e1l\u00f3nev\u00fcnket hogy fel tudjuk tolni a f\u00e1jlt\n",
      "    <li>\u00c9s v\u00e9g\u00fcl toljuk fel a f\u00e1jlunkat\n",
      "    </ul>"
     ]
    },
    {
     "cell_type": "markdown",
     "metadata": {},
     "source": [
      "<font size=\"3\" color='red'>***A mappa neve tetsz\u0151leges lehet.***"
     ]
    },
    {
     "cell_type": "code",
     "collapsed": false,
     "input": [
      "!mkdir tarolom"
     ],
     "language": "python",
     "metadata": {},
     "outputs": []
    },
    {
     "cell_type": "markdown",
     "metadata": {},
     "source": [
      "<font size=\"3\" color='red'>***\u00cdgy l\u00e9p\u00fcnk bele a mapp\u00e1nkba.***"
     ]
    },
    {
     "cell_type": "code",
     "collapsed": false,
     "input": [
      "!cd tarolom"
     ],
     "language": "python",
     "metadata": {},
     "outputs": []
    },
    {
     "cell_type": "heading",
     "level": 6,
     "metadata": {},
     "source": [
      "<font size=\"3\" color='red'>***Egy repository-t hozunk l\u00e9tre.***"
     ]
    },
    {
     "cell_type": "code",
     "collapsed": false,
     "input": [
      "!git init"
     ],
     "language": "python",
     "metadata": {},
     "outputs": []
    },
    {
     "cell_type": "markdown",
     "metadata": {},
     "source": [
      "<font size=\"3\" color='red'>***Csin\u00e1lunk egy tetsz\u0151leges sz\u00f6veges f\u00e1jlt, de b\u00e1rmilyen f\u00e1jl lehet benne.***"
     ]
    },
    {
     "cell_type": "code",
     "collapsed": false,
     "input": [
      "!touch elsofajlom"
     ],
     "language": "python",
     "metadata": {},
     "outputs": []
    },
    {
     "cell_type": "markdown",
     "metadata": {},
     "source": [
      "<font size=\"3\" color='red'>***Hozz\u00e1adjuk egy indexbe a f\u00e1jlt, amit szeretn\u00e9nk felrakni a GIT-re.***"
     ]
    },
    {
     "cell_type": "code",
     "collapsed": false,
     "input": [
      "!git add elsofajlom"
     ],
     "language": "python",
     "metadata": {},
     "outputs": []
    },
    {
     "cell_type": "heading",
     "level": 6,
     "metadata": {},
     "source": [
      "<font size=\"3\" color='red'>***Az indexben elt\u00e1rolt f\u00e1jlt el\u0151k\u00e9sz\u00edtj\u00fck a feltol\u00e1sra.***"
     ]
    },
    {
     "cell_type": "code",
     "collapsed": false,
     "input": [
      "!git commit -m 'elso commitem'"
     ],
     "language": "python",
     "metadata": {},
     "outputs": []
    },
    {
     "cell_type": "markdown",
     "metadata": {},
     "source": [
      "<font size=\"3\" color='red'>***Ahhoz hogy felk\u00fcldj\u00fck, \u00e9s ne kelljen mindig ki\u00edrni a felhaszn\u00e1l\u00f3nev\u00fcnket.***</font><br>\n",
      "<font size=\"2,5\" color='gray'>*A jelsz\u00f3t is sz\u00fcks\u00e9ges ilyenkor megadni"
     ]
    },
    {
     "cell_type": "code",
     "collapsed": false,
     "input": [
      "!git remote add origin git@gitlab.websupport.sk:<felhasznalo>/<tarolo>.git"
     ],
     "language": "python",
     "metadata": {},
     "outputs": []
    },
    {
     "cell_type": "markdown",
     "metadata": {},
     "source": [
      "<font size=\"3\" color='red'>***V\u00e9g\u00fcl megadjuk hogy a *master* \u00e1g(m\u00e1sn\u00e9ven f\u0151 \u00e1g)-ra rakja fel a commitben elt\u00e1rolt f\u00e1jlunkat.***"
     ]
    },
    {
     "cell_type": "markdown",
     "metadata": {},
     "source": [
      "<font size=\"3\" color='red'>***Ha szeretn\u00e9nk lehozni a GIT-\u00fcnk master \u00e1g\u00e1r\u00f3l f\u00e1jlokat, szimpl\u00e1n kiadjuk ezt a parancsot:***"
     ]
    },
    {
     "cell_type": "code",
     "collapsed": false,
     "input": [
      "!git push -u origin master"
     ],
     "language": "python",
     "metadata": {},
     "outputs": []
    },
    {
     "cell_type": "code",
     "collapsed": false,
     "input": [
      "!git pull origin master"
     ],
     "language": "python",
     "metadata": {},
     "outputs": []
    }
   ],
   "metadata": {}
  }
 ]
}